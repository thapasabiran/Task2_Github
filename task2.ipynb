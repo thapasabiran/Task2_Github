{
 "cells": [
  {
   "cell_type": "code",
   "execution_count": 1,
   "metadata": {},
   "outputs": [],
   "source": [
    "import os\n",
    "import requests\n",
    "import re\n",
    "from bs4 import BeautifulSoup"
   ]
  },
  {
   "cell_type": "code",
   "execution_count": 11,
   "metadata": {},
   "outputs": [],
   "source": [
    "# Code here - Ask the user to input \"Enter url of a medium article: \" and collect it in url\n",
    "url = input(\"Enter url of a medium article: \")\n",
    "# Code ends here\n",
    "\n",
    "# handling possible error\n",
    "if not re.match(r'https?://medium.com/',url):\n",
    "\tprint('Please enter a valid website, or make sure it is a medium article')\n",
    "\tsys.exit(1)\n",
    "\n",
    "# Code here - Call get method in requests object, pass url and collect it in res\n",
    "res = requests.get(url)\n",
    "# Code ends here\n",
    "\n",
    "res.raise_for_status()\n",
    "soup = BeautifulSoup(res.text, 'html.parser')\n",
    "# print(soup.text)"
   ]
  },
  {
   "cell_type": "code",
   "execution_count": 15,
   "metadata": {},
   "outputs": [
    {
     "ename": "OSError",
     "evalue": "[Errno 30] Read-only file system: './scraped_articles'",
     "output_type": "error",
     "traceback": [
      "\u001b[0;31m---------------------------------------------------------------------------\u001b[0m",
      "\u001b[0;31mOSError\u001b[0m                                   Traceback (most recent call last)",
      "Cell \u001b[0;32mIn[15], line 3\u001b[0m\n\u001b[1;32m      1\u001b[0m test \u001b[39m=\u001b[39m os\u001b[39m.\u001b[39mpath\u001b[39m.\u001b[39mexists(\u001b[39m'\u001b[39m\u001b[39m./scraped_articles\u001b[39m\u001b[39m'\u001b[39m)\n\u001b[1;32m      2\u001b[0m \u001b[39mif\u001b[39;00m \u001b[39mnot\u001b[39;00m os\u001b[39m.\u001b[39mpath\u001b[39m.\u001b[39mexists(\u001b[39m'\u001b[39m\u001b[39m./scraped_articles\u001b[39m\u001b[39m'\u001b[39m):\n\u001b[0;32m----> 3\u001b[0m \tos\u001b[39m.\u001b[39mmkdir(\u001b[39m'\u001b[39m\u001b[39m./scraped_articles\u001b[39m\u001b[39m'\u001b[39m)\n\u001b[1;32m      4\u001b[0m name \u001b[39m=\u001b[39m url\u001b[39m.\u001b[39msplit(\u001b[39m\"\u001b[39m\u001b[39m/\u001b[39m\u001b[39m\"\u001b[39m)[\u001b[39m-\u001b[39m\u001b[39m1\u001b[39m]\n\u001b[1;32m      5\u001b[0m \u001b[39mprint\u001b[39m(name)\n",
      "\u001b[0;31mOSError\u001b[0m: [Errno 30] Read-only file system: './scraped_articles'"
     ]
    }
   ],
   "source": [
    "test = os.path.exists('./scraped_articles')\n",
    "if not os.path.exists('./scraped_articles'):\n",
    "\tos.mkdir('./scraped_articles')\n",
    "name = url.split(\"/\")[-1]\n",
    "print(name)\n",
    "fname = f'scraped_articles/{name}.txt'\n",
    "\n",
    "# Code here - write a file using with (2 lines)\n",
    "with open(fname, \"w\") as file:\n",
    "\tfile.write(soup.text)\n",
    "# Code ends here\n",
    "\n",
    "print(f'File saved in directory {fname}')"
   ]
  }
 ],
 "metadata": {
  "kernelspec": {
   "display_name": "base",
   "language": "python",
   "name": "python3"
  },
  "language_info": {
   "codemirror_mode": {
    "name": "ipython",
    "version": 3
   },
   "file_extension": ".py",
   "mimetype": "text/x-python",
   "name": "python",
   "nbconvert_exporter": "python",
   "pygments_lexer": "ipython3",
   "version": "3.11.4"
  },
  "orig_nbformat": 4
 },
 "nbformat": 4,
 "nbformat_minor": 2
}
